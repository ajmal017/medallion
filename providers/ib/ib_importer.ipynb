{
 "metadata": {
  "language_info": {
   "codemirror_mode": {
    "name": "ipython",
    "version": 3
   },
   "file_extension": ".py",
   "mimetype": "text/x-python",
   "name": "python",
   "nbconvert_exporter": "python",
   "pygments_lexer": "ipython3",
   "version": "3.8.3-final"
  },
  "orig_nbformat": 2,
  "kernelspec": {
   "name": "Python 3.8.3 64-bit ('py_38_env': venv)",
   "display_name": "Python 3.8.3 64-bit ('py_38_env': venv)",
   "metadata": {
    "interpreter": {
     "hash": "fa671ede2aecec7c00f45893993a14bb156838d397b076f9bc683f6ae23a4f03"
    }
   }
  }
 },
 "nbformat": 4,
 "nbformat_minor": 2,
 "cells": [
  {
   "cell_type": "code",
   "execution_count": 1,
   "metadata": {},
   "outputs": [
    {
     "output_type": "stream",
     "name": "stdout",
     "text": [
      "\nCONNECTING...\nnextValidOrderId: 6\n2104 Market data farm connection is OK:usfarm.nj\n2104 Market data farm connection is OK:hfarm\n2104 Market data farm connection is OK:jfarm\n2104 Market data farm connection is OK:usfuture\n2104 Market data farm connection is OK:eufarm\n2104 Market data farm connection is OK:cashfarm\n2104 Market data farm connection is OK:usfarm\n2106 HMDS data farm connection is OK:euhmds\n2106 HMDS data farm connection is OK:ushmds.nj\n2106 HMDS data farm connection is OK:cashhmds\n2106 HMDS data farm connection is OK:fundfarm\n2106 HMDS data farm connection is OK:ushmds\n2158 Sec-def data farm connection is OK:secdefil\n"
     ]
    }
   ],
   "source": [
    "import asyncio\n",
    "import IbTrader\n",
    "\n",
    "ib = IbTrader.IbTrader()\n",
    "\n",
    "await ib.start()\n"
   ]
  },
  {
   "cell_type": "code",
   "execution_count": 2,
   "metadata": {},
   "outputs": [],
   "source": [
    "\n",
    "tickers = ['AAPL', 'MSFT', 'AMZN', 'FB', 'GOOGL', 'INTC', 'NVDA', 'CSCO', 'CMCSA', 'ADBE', 'NFLX', 'MA', 'COST', 'PYPL', 'AMGN', 'AVGO', 'TXN', 'CHTR', 'SBUX', 'QCOM', 'GILD', 'MDLZ', 'FISV', 'BKNG', 'INTU']\n",
    "\n",
    "requests = []\n",
    "for ticker in tickers:\n",
    "    requests.append(ib.getHistoricalData(ticker, '1 D', '1 min'))\n"
   ]
  },
  {
   "cell_type": "code",
   "execution_count": 3,
   "metadata": {},
   "outputs": [
    {
     "output_type": "stream",
     "name": "stdout",
     "text": [
      "\n",
      "REQUESTING HISTORICAL DATA. reqId: 0 Symbol: AAPL\n",
      "\n",
      "REQUESTING HISTORICAL DATA. reqId: 1 Symbol: MSFT\n",
      "\n",
      "REQUESTING HISTORICAL DATA. reqId: 2 Symbol: AMZN\n",
      "\n",
      "REQUESTING HISTORICAL DATA. reqId: 3 Symbol: FB\n",
      "\n",
      "REQUESTING HISTORICAL DATA. reqId: 4 Symbol: GOOGL\n",
      "\n",
      "REQUESTING HISTORICAL DATA. reqId: 5 Symbol: INTC\n",
      "\n",
      "REQUESTING HISTORICAL DATA. reqId: 6 Symbol: NVDA\n",
      "\n",
      "REQUESTING HISTORICAL DATA. reqId: 7 Symbol: CSCO\n",
      "\n",
      "REQUESTING HISTORICAL DATA. reqId: 8 Symbol: CMCSA\n",
      "\n",
      "REQUESTING HISTORICAL DATA. reqId: 9 Symbol: ADBE\n",
      "\n",
      "REQUESTING HISTORICAL DATA. reqId: 10 Symbol: NFLX\n",
      "\n",
      "REQUESTING HISTORICAL DATA. reqId: 11 Symbol: MA\n",
      "\n",
      "REQUESTING HISTORICAL DATA. reqId: 12 Symbol: COST\n",
      "\n",
      "REQUESTING HISTORICAL DATA. reqId: 13 Symbol: PYPL\n",
      "\n",
      "REQUESTING HISTORICAL DATA. reqId: 14 Symbol: AMGN\n",
      "\n",
      "REQUESTING HISTORICAL DATA. reqId: 15 Symbol: AVGO\n",
      "\n",
      "REQUESTING HISTORICAL DATA. reqId: 16 Symbol: TXN\n",
      "\n",
      "REQUESTING HISTORICAL DATA. reqId: 17 Symbol: CHTR\n",
      "\n",
      "REQUESTING HISTORICAL DATA. reqId: 18 Symbol: SBUX\n",
      "\n",
      "REQUESTING HISTORICAL DATA. reqId: 19 Symbol: QCOM\n",
      "\n",
      "REQUESTING HISTORICAL DATA. reqId: 20 Symbol: GILD\n",
      "\n",
      "REQUESTING HISTORICAL DATA. reqId: 21 Symbol: MDLZ\n",
      "\n",
      "REQUESTING HISTORICAL DATA. reqId: 22 Symbol: FISV\n",
      "\n",
      "REQUESTING HISTORICAL DATA. reqId: 23 Symbol: BKNG\n",
      "\n",
      "REQUESTING HISTORICAL DATA. reqId: 24 Symbol: INTU\n",
      "\n",
      "historicalDataEnd. reqId: 0; ticker: AAPL;. Num stocks still to retrieve: 24\n",
      "\n",
      "historicalDataEnd. reqId: 2; ticker: AMZN;. Num stocks still to retrieve: 24\n",
      "\n",
      "historicalDataEnd. reqId: 3; ticker: FB;. Num stocks still to retrieve: 24\n",
      "\n",
      "historicalDataEnd. reqId: 1; ticker: MSFT;. Num stocks still to retrieve: 24\n",
      "\n",
      "historicalDataEnd. reqId: 4; ticker: GOOGL;. Num stocks still to retrieve: 24\n",
      "\n",
      "historicalDataEnd. reqId: 6; ticker: NVDA;. Num stocks still to retrieve: 24\n",
      "\n",
      "historicalDataEnd. reqId: 7; ticker: CSCO;. Num stocks still to retrieve: 24\n",
      "\n",
      "historicalDataEnd. reqId: 5; ticker: INTC;. Num stocks still to retrieve: 24\n",
      "getHistorialData. Got AAPL data\n",
      "getHistorialData. Got MSFT data\n",
      "getHistorialData. Got AMZN data\n",
      "getHistorialData. Got FB data\n",
      "getHistorialData. Got GOOGL data\n",
      "getHistorialData. Got INTC data\n",
      "getHistorialData. Got NVDA data\n",
      "getHistorialData. Got CSCO data\n",
      "\n",
      "historicalDataEnd. reqId: 17; ticker: CHTR;. Num stocks still to retrieve: 16\n",
      "\n",
      "historicalDataEnd. reqId: 14; ticker: AMGN;. Num stocks still to retrieve: 16\n",
      "\n",
      "historicalDataEnd. reqId: 13; ticker: PYPL;. Num stocks still to retrieve: 16\n",
      "\n",
      "historicalDataEnd. reqId: 20; ticker: GILD;. Num stocks still to retrieve: 16\n",
      "\n",
      "historicalDataEnd. reqId: 24; ticker: INTU;. Num stocks still to retrieve: 16\n",
      "\n",
      "historicalDataEnd. reqId: 15; ticker: AVGO;. Num stocks still to retrieve: 16\n",
      "\n",
      "historicalDataEnd. reqId: 8; ticker: CMCSA;. Num stocks still to retrieve: 16getHistorialData. Got CMCSA data\n",
      "\n",
      "\n",
      "historicalDataEnd. reqId: 22; ticker: FISV;. Num stocks still to retrieve: 15\n",
      "\n",
      "historicalDataEnd. reqId: 16; ticker: TXN;. Num stocks still to retrieve: 15\n",
      "\n",
      "historicalDataEnd. reqId: 21; ticker: MDLZ;. Num stocks still to retrieve: 15\n",
      "\n",
      "historicalDataEnd. reqId: 19; ticker: QCOM;. Num stocks still to retrieve: 15\n",
      "\n",
      "historicalDataEnd. reqId: 23; ticker: BKNG;. Num stocks still to retrieve: 15\n",
      "\n",
      "historicalDataEnd. reqId: 12; ticker: COST;. Num stocks still to retrieve: 15\n",
      "\n",
      "historicalDataEnd. reqId: 18; ticker: SBUX;. Num stocks still to retrieve: 15\n",
      "\n",
      "historicalDataEnd. reqId: 9; ticker: ADBE;. Num stocks still to retrieve: 15getHistorialData. Got ADBE data\n",
      "\n",
      "\n",
      "historicalDataEnd. reqId: 10; ticker: NFLX;. Num stocks still to retrieve: 14getHistorialData. Got NFLX data\n",
      "\n",
      "\n",
      "historicalDataEnd. reqId: 11; ticker: MA;. Num stocks still to retrieve: 13getHistorialData. Got MA data\n",
      "\n",
      "getHistorialData. Got COST data\n",
      "getHistorialData. Got PYPL data\n",
      "getHistorialData. Got AMGN data\n",
      "getHistorialData. Got AVGO data\n",
      "getHistorialData. Got TXN data\n",
      "getHistorialData. Got CHTR data\n",
      "getHistorialData. Got SBUX data\n",
      "getHistorialData. Got QCOM data\n",
      "getHistorialData. Got GILD data\n",
      "getHistorialData. Got MDLZ data\n",
      "getHistorialData. Got FISV data\n",
      "getHistorialData. Got BKNG data\n",
      "getHistorialData. Got INTU data\n",
      "\n",
      "IMPORTED ALL REQUESTED DATA\n",
      "\n"
     ]
    }
   ],
   "source": [
    "\n",
    "tickerData = await asyncio.gather(*requests)\n",
    "print('\\nIMPORTED ALL REQUESTED DATA\\n')\n"
   ]
  },
  {
   "cell_type": "code",
   "execution_count": 5,
   "metadata": {},
   "outputs": [
    {
     "output_type": "stream",
     "name": "stdout",
     "text": [
      "\nDISCONNECTED FROM IB\n\n"
     ]
    }
   ],
   "source": [
    "ib.stop()"
   ]
  },
  {
   "cell_type": "code",
   "execution_count": 7,
   "metadata": {},
   "outputs": [
    {
     "output_type": "execute_result",
     "data": {
      "text/plain": [
       "        date    open    high     low   close  volume\n",
       "0   20200929  114.54  115.31  113.58  114.09  118445\n",
       "1   20200930  113.63  117.24  113.62  115.81  179287\n",
       "2   20201001  117.70  117.72  115.83  116.79  137962\n",
       "3   20201002  112.84  115.37  112.23  113.02  196405\n",
       "4   20201005  113.92  116.65  113.56  116.50  139674\n",
       "5   20201006  115.68  116.11  112.25  113.16  201476\n",
       "6   20201007  114.65  115.47  114.13  115.08  127891\n",
       "7   20201008  116.25  116.40  114.60  114.97  106950\n",
       "8   20201009  115.23  117.00  114.92  116.97  144350\n",
       "9   20201012  120.06  125.18  119.30  124.40  287569\n",
       "10  20201013  125.31  125.39  119.69  121.10  303395\n",
       "11  20201014  121.00  123.03  119.62  121.19  176707\n",
       "12  20201015  118.75  121.20  118.15  120.71  132221\n",
       "13  20201016  121.25  121.54  118.81  119.02  141312\n",
       "14  20201019  119.94  120.41  115.66  115.98  163289\n",
       "15  20201020  116.23  118.98  115.63  117.51  128163\n",
       "16  20201021  116.63  118.70  116.45  116.87  125478\n",
       "17  20201022  117.41  118.04  114.84  115.75  141383\n",
       "18  20201023  116.36  116.55  114.29  115.04  108814\n",
       "19  20201026  114.03  116.54  112.88  115.05  157993\n",
       "20  20201027  115.42  117.28  114.54  116.60  113932\n",
       "21  20201028  115.04  115.43  111.96  112.61  143533"
      ],
      "text/html": "<div>\n<style scoped>\n    .dataframe tbody tr th:only-of-type {\n        vertical-align: middle;\n    }\n\n    .dataframe tbody tr th {\n        vertical-align: top;\n    }\n\n    .dataframe thead th {\n        text-align: right;\n    }\n</style>\n<table border=\"1\" class=\"dataframe\">\n  <thead>\n    <tr style=\"text-align: right;\">\n      <th></th>\n      <th>date</th>\n      <th>open</th>\n      <th>high</th>\n      <th>low</th>\n      <th>close</th>\n      <th>volume</th>\n    </tr>\n  </thead>\n  <tbody>\n    <tr>\n      <th>0</th>\n      <td>20200929</td>\n      <td>114.54</td>\n      <td>115.31</td>\n      <td>113.58</td>\n      <td>114.09</td>\n      <td>118445</td>\n    </tr>\n    <tr>\n      <th>1</th>\n      <td>20200930</td>\n      <td>113.63</td>\n      <td>117.24</td>\n      <td>113.62</td>\n      <td>115.81</td>\n      <td>179287</td>\n    </tr>\n    <tr>\n      <th>2</th>\n      <td>20201001</td>\n      <td>117.70</td>\n      <td>117.72</td>\n      <td>115.83</td>\n      <td>116.79</td>\n      <td>137962</td>\n    </tr>\n    <tr>\n      <th>3</th>\n      <td>20201002</td>\n      <td>112.84</td>\n      <td>115.37</td>\n      <td>112.23</td>\n      <td>113.02</td>\n      <td>196405</td>\n    </tr>\n    <tr>\n      <th>4</th>\n      <td>20201005</td>\n      <td>113.92</td>\n      <td>116.65</td>\n      <td>113.56</td>\n      <td>116.50</td>\n      <td>139674</td>\n    </tr>\n    <tr>\n      <th>5</th>\n      <td>20201006</td>\n      <td>115.68</td>\n      <td>116.11</td>\n      <td>112.25</td>\n      <td>113.16</td>\n      <td>201476</td>\n    </tr>\n    <tr>\n      <th>6</th>\n      <td>20201007</td>\n      <td>114.65</td>\n      <td>115.47</td>\n      <td>114.13</td>\n      <td>115.08</td>\n      <td>127891</td>\n    </tr>\n    <tr>\n      <th>7</th>\n      <td>20201008</td>\n      <td>116.25</td>\n      <td>116.40</td>\n      <td>114.60</td>\n      <td>114.97</td>\n      <td>106950</td>\n    </tr>\n    <tr>\n      <th>8</th>\n      <td>20201009</td>\n      <td>115.23</td>\n      <td>117.00</td>\n      <td>114.92</td>\n      <td>116.97</td>\n      <td>144350</td>\n    </tr>\n    <tr>\n      <th>9</th>\n      <td>20201012</td>\n      <td>120.06</td>\n      <td>125.18</td>\n      <td>119.30</td>\n      <td>124.40</td>\n      <td>287569</td>\n    </tr>\n    <tr>\n      <th>10</th>\n      <td>20201013</td>\n      <td>125.31</td>\n      <td>125.39</td>\n      <td>119.69</td>\n      <td>121.10</td>\n      <td>303395</td>\n    </tr>\n    <tr>\n      <th>11</th>\n      <td>20201014</td>\n      <td>121.00</td>\n      <td>123.03</td>\n      <td>119.62</td>\n      <td>121.19</td>\n      <td>176707</td>\n    </tr>\n    <tr>\n      <th>12</th>\n      <td>20201015</td>\n      <td>118.75</td>\n      <td>121.20</td>\n      <td>118.15</td>\n      <td>120.71</td>\n      <td>132221</td>\n    </tr>\n    <tr>\n      <th>13</th>\n      <td>20201016</td>\n      <td>121.25</td>\n      <td>121.54</td>\n      <td>118.81</td>\n      <td>119.02</td>\n      <td>141312</td>\n    </tr>\n    <tr>\n      <th>14</th>\n      <td>20201019</td>\n      <td>119.94</td>\n      <td>120.41</td>\n      <td>115.66</td>\n      <td>115.98</td>\n      <td>163289</td>\n    </tr>\n    <tr>\n      <th>15</th>\n      <td>20201020</td>\n      <td>116.23</td>\n      <td>118.98</td>\n      <td>115.63</td>\n      <td>117.51</td>\n      <td>128163</td>\n    </tr>\n    <tr>\n      <th>16</th>\n      <td>20201021</td>\n      <td>116.63</td>\n      <td>118.70</td>\n      <td>116.45</td>\n      <td>116.87</td>\n      <td>125478</td>\n    </tr>\n    <tr>\n      <th>17</th>\n      <td>20201022</td>\n      <td>117.41</td>\n      <td>118.04</td>\n      <td>114.84</td>\n      <td>115.75</td>\n      <td>141383</td>\n    </tr>\n    <tr>\n      <th>18</th>\n      <td>20201023</td>\n      <td>116.36</td>\n      <td>116.55</td>\n      <td>114.29</td>\n      <td>115.04</td>\n      <td>108814</td>\n    </tr>\n    <tr>\n      <th>19</th>\n      <td>20201026</td>\n      <td>114.03</td>\n      <td>116.54</td>\n      <td>112.88</td>\n      <td>115.05</td>\n      <td>157993</td>\n    </tr>\n    <tr>\n      <th>20</th>\n      <td>20201027</td>\n      <td>115.42</td>\n      <td>117.28</td>\n      <td>114.54</td>\n      <td>116.60</td>\n      <td>113932</td>\n    </tr>\n    <tr>\n      <th>21</th>\n      <td>20201028</td>\n      <td>115.04</td>\n      <td>115.43</td>\n      <td>111.96</td>\n      <td>112.61</td>\n      <td>143533</td>\n    </tr>\n  </tbody>\n</table>\n</div>"
     },
     "metadata": {},
     "execution_count": 7
    }
   ],
   "source": [
    "tickerData[0]['data']"
   ]
  },
  {
   "cell_type": "code",
   "execution_count": null,
   "metadata": {},
   "outputs": [],
   "source": []
  }
 ]
}