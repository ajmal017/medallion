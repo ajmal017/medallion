{
 "metadata": {
  "language_info": {
   "codemirror_mode": {
    "name": "ipython",
    "version": 3
   },
   "file_extension": ".py",
   "mimetype": "text/x-python",
   "name": "python",
   "nbconvert_exporter": "python",
   "pygments_lexer": "ipython3",
   "version": "3.8.3-final"
  },
  "orig_nbformat": 2,
  "kernelspec": {
   "name": "Python 3.8.3 64-bit ('anaconda3': virtualenv)",
   "display_name": "Python 3.8.3 64-bit ('anaconda3': virtualenv)",
   "metadata": {
    "interpreter": {
     "hash": "4b32c57cd4bc890afe26e49744ea2f3de76c07974b0b9469f3af1cdd8cbd6532"
    }
   }
  }
 },
 "nbformat": 4,
 "nbformat_minor": 2,
 "cells": [
  {
   "cell_type": "code",
   "execution_count": 70,
   "metadata": {},
   "outputs": [],
   "source": [
    "import requests\n",
    "import os\n",
    "\n",
    "base_url = 'https://demo-api.ig.com/gateway/deal/'\n",
    "\n",
    "def login():\n",
    "    key = os.environ['IG_API_KEY']\n",
    "    user = os.environ['IG_USER']\n",
    "    pwd = os.environ['IG_PASSWORD']\n",
    "    url = base_url + 'session'\n",
    "    payload = '{\"identifier\": \"' + user + '\",\"password\": \"' + pwd + '\",\"encryptedPassword\": null}'\n",
    "    headers = {\n",
    "        'Accept': 'application/json; charset=UTF-8',\n",
    "        'X-IG-API-KEY': key,\n",
    "        'Content-Type': 'application/json; charset=UTF-8'\n",
    "    }\n",
    "    resp = requests.request(\"POST\", url, headers=headers, data = payload)\n",
    "    return {'CST': resp.headers['CST'], 'X-SECURITY-TOKEN': resp.headers['X-SECURITY-TOKEN'], 'X-IG-API-KEY': key}\n",
    "\n",
    "def get5MinCandles(ig_auth, symbol, from_date, to_date):\n",
    "    url = base_url + 'prices/' + symbol\n",
    "    params = {'resolution': 'MINUTE_5', 'from': from_date, 'to': to_date}\n",
    "    headers = {'CST': ig_auth['CST'], 'X-IG-API-KEY': ig_auth['X-IG-API-KEY'], 'X-SECURITY-TOKEN': ig_auth['X-SECURITY-TOKEN']}\n",
    "    prep = requests.Request('GET', url, headers=headers, params=params)\n",
    "    #return requests.get(url, params=params, headers=headers)\n",
    "    req = prep.prepare()\n",
    "    print('{}\\n{}\\r\\n{}\\r\\n\\r\\n{}'.format(\n",
    "        '-----------START-----------',\n",
    "        req.method + ' ' + req.url,\n",
    "        '\\r\\n'.join('{}: {}'.format(k, v) for k, v in req.headers.items()),\n",
    "        req.body,\n",
    "    ))\n",
    "    session= requests.Session()\n",
    "    return session.send(req)"
   ]
  },
  {
   "cell_type": "code",
   "execution_count": 71,
   "metadata": {
    "tags": []
   },
   "outputs": [],
   "source": [
    "ig_auth = login()"
   ]
  },
  {
   "cell_type": "code",
   "execution_count": 73,
   "metadata": {
    "tags": []
   },
   "outputs": [
    {
     "output_type": "stream",
     "name": "stdout",
     "text": "-----------START-----------\nGET https://demo-api.ig.com/gateway/deal/prices/CS.D.EURUSD.MINI.IP?resolution=MINUTE_5&from=2020-01-01T00%3A00%3A00&to=2020-02-01T00%3A00%3A00\nCST: 8cfc4fd69f5c019f8885b7590c405bdb2fe032484e4cec558c2759cf84c8c8CU01113\nX-IG-API-KEY: f5b5cd6eaa7ba93dab0e91cd917763bb76f15a20\nX-SECURITY-TOKEN: 3cc43074ce25d74f1be265610a7882c72d71bdef44ab5b9163ad1192797896CD01113\n\nNone\nReason: Not Found \nText: <html><head><title>Page Not Found</title><h3>Error 404</h3><h3>Sorry, the requested page is not available.</h3></body></html>\n"
    }
   ],
   "source": [
    "symbol = 'CS.D.EURUSD.MINI.IP'\n",
    "from_date = '2020-01-01T00:00:00'\n",
    "to_date = '2020-02-01T00:00:00'\n",
    "resp = get5MinCandles(ig_auth, symbol, from_date, to_date)\n",
    "print('Reason:', resp.reason, '\\nText:', resp.text)"
   ]
  },
  {
   "cell_type": "code",
   "execution_count": 63,
   "metadata": {},
   "outputs": [
    {
     "output_type": "execute_result",
     "data": {
      "text/plain": "{'CST': '391ce328e79aa20a01b5a19badcceb08ce3678fdd7f120ad4646dbc18437bcCU01111',\n 'X-SECURITY-TOKEN': 'b05fc739498d52eb525b8ed77c61028b6625f16869e43f2940220b6c3df8f8CD01111',\n 'X-IG-API-KEY': 'f5b5cd6eaa7ba93dab0e91cd917763bb76f15a20'}"
     },
     "metadata": {},
     "execution_count": 63
    }
   ],
   "source": [
    "ig_auth"
   ]
  },
  {
   "cell_type": "code",
   "execution_count": null,
   "metadata": {},
   "outputs": [],
   "source": []
  }
 ]
}